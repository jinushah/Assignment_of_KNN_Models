{
 "cells": [
  {
   "cell_type": "code",
   "execution_count": null,
   "metadata": {},
   "outputs": [],
   "source": [
    "import numpy as np\n",
    "import pandas as pd\n",
    "from sklearn.model_selection import train_test_split\n",
    "from sklearn.neighbors import KNeighborsClassifier\n",
    "from sklearn.datasets import load_iris"
   ]
  },
  {
   "attachments": {},
   "cell_type": "markdown",
   "metadata": {},
   "source": [
    "Q-1"
   ]
  },
  {
   "cell_type": "code",
   "execution_count": null,
   "metadata": {},
   "outputs": [],
   "source": [
    "data=pd.read_csv(\"tshirt.csv\",delimiter=\",\")\n",
    "x=data[['Height(in cms)','Weight(in kgs)']]\n",
    "y=data['T Shirt Size']\n",
    "x_train,x_test,y_train,y_test=train_test_split(x,y,test_size=0.2,random_state=0)\n",
    "knn=KNeighborsClassifier(n_neighbors=3)\n",
    "print(x_train,y_train)\n",
    "knn.fit(x_train,y_train)\n",
    "print(knn.predict([[170,60]]))\n"
   ]
  },
  {
   "attachments": {},
   "cell_type": "markdown",
   "metadata": {},
   "source": [
    "Q-2"
   ]
  },
  {
   "cell_type": "code",
   "execution_count": null,
   "metadata": {},
   "outputs": [],
   "source": [
    "data=pd.read_csv(\"acid.csv\",delimiter=\",\")\n",
    "x=data[['Acid Durability','Strength']]\n",
    "y=data['Class']\n",
    "x_train,x_test,y_train,y_test=train_test_split(x,y,test_size=0.2,random_state=0)\n",
    "knn=KNeighborsClassifier(n_neighbors=3)\n",
    "print(x_train,y_train)\n",
    "knn.fit(x_train,y_train)\n",
    "print(knn.predict([[3,4]]))\n"
   ]
  },
  {
   "attachments": {},
   "cell_type": "markdown",
   "metadata": {},
   "source": [
    "Q-3"
   ]
  },
  {
   "cell_type": "code",
   "execution_count": 36,
   "metadata": {},
   "outputs": [
    {
     "name": "stdout",
     "output_type": "stream",
     "text": [
      "     Pregnancies  Glucose  BloodPressure  SkinThickness  Insulin   BMI  \\\n",
      "603            7      150             78             29      126  35.2   \n",
      "118            4       97             60             23        0  28.2   \n",
      "247            0      165             90             33      680  52.3   \n",
      "157            1      109             56             21      135  25.2   \n",
      "468            8      120              0              0        0  30.0   \n",
      "..           ...      ...            ...            ...      ...   ...   \n",
      "763           10      101             76             48      180  32.9   \n",
      "192            7      159             66              0        0  30.4   \n",
      "629            4       94             65             22        0  24.7   \n",
      "559           11       85             74              0        0  30.1   \n",
      "684            5      136             82              0        0   0.0   \n",
      "\n",
      "     DiabetesPedigreeFunction  Age  \n",
      "603                     0.692   54  \n",
      "118                     0.443   22  \n",
      "247                     0.427   23  \n",
      "157                     0.833   23  \n",
      "468                     0.183   38  \n",
      "..                        ...  ...  \n",
      "763                     0.171   63  \n",
      "192                     0.383   36  \n",
      "629                     0.148   21  \n",
      "559                     0.300   35  \n",
      "684                     0.640   69  \n",
      "\n",
      "[614 rows x 8 columns] 603    1\n",
      "118    0\n",
      "247    0\n",
      "157    0\n",
      "468    1\n",
      "      ..\n",
      "763    0\n",
      "192    1\n",
      "629    0\n",
      "559    0\n",
      "684    0\n",
      "Name: Outcome, Length: 614, dtype: int64\n",
      "[1]\n"
     ]
    },
    {
     "name": "stderr",
     "output_type": "stream",
     "text": [
      "c:\\Users\\jinay\\anaconda3\\lib\\site-packages\\sklearn\\base.py:450: UserWarning: X does not have valid feature names, but KNeighborsClassifier was fitted with feature names\n",
      "  warnings.warn(\n",
      "c:\\Users\\jinay\\anaconda3\\lib\\site-packages\\sklearn\\neighbors\\_classification.py:228: FutureWarning: Unlike other reduction functions (e.g. `skew`, `kurtosis`), the default behavior of `mode` typically preserves the axis it acts along. In SciPy 1.11.0, this behavior will change: the default value of `keepdims` will become False, the `axis` over which the statistic is taken will be eliminated, and the value None will no longer be accepted. Set `keepdims` to True or False to avoid this warning.\n",
      "  mode, _ = stats.mode(_y[neigh_ind, k], axis=1)\n"
     ]
    }
   ],
   "source": [
    "data = pd.read_csv(\"diabetes.csv\",delimiter=\",\")\n",
    "x=data[['Pregnancies','Glucose','BloodPressure','SkinThickness','Insulin','BMI','DiabetesPedigreeFunction','Age']]\n",
    "y=data['Outcome']\n",
    "x_train,x_test,y_train,y_test=train_test_split(x,y,test_size=0.2,random_state=0)\n",
    "knn=KNeighborsClassifier(n_neighbors=7)\n",
    "print(x_train,y_train)\n",
    "knn.fit(x_train,y_train)\n",
    "print(knn.predict([[6,148,72,35,0,33.6,0.627,50]]))\n"
   ]
  }
 ],
 "metadata": {
  "kernelspec": {
   "display_name": "base",
   "language": "python",
   "name": "python3"
  },
  "language_info": {
   "codemirror_mode": {
    "name": "ipython",
    "version": 3
   },
   "file_extension": ".py",
   "mimetype": "text/x-python",
   "name": "python",
   "nbconvert_exporter": "python",
   "pygments_lexer": "ipython3",
   "version": "3.9.13"
  },
  "orig_nbformat": 4,
  "vscode": {
   "interpreter": {
    "hash": "06ab3c6a628ba3d00cd530e4b9837ac2ac04ab5c77f817d21b834eef6afa7b31"
   }
  }
 },
 "nbformat": 4,
 "nbformat_minor": 2
}
