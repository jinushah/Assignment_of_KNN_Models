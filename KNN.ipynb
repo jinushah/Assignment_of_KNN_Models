{
 "cells": [
  {
   "cell_type": "code",
   "execution_count": null,
   "metadata": {},
   "outputs": [],
   "source": [
    "import numpy as np\n",
    "import pandas as pd\n",
    "from sklearn.model_selection import train_test_split\n",
    "from sklearn.neighbors import KNeighborsClassifier"
   ]
  },
  {
   "attachments": {},
   "cell_type": "markdown",
   "metadata": {},
   "source": [
    "Q-1"
   ]
  },
  {
   "cell_type": "code",
   "execution_count": null,
   "metadata": {},
   "outputs": [],
   "source": [
    "data=pd.read_csv(\"tshirt.csv\",delimiter=\",\")\n",
    "x=data[['Height(in cms)','Weight(in kgs)']]\n",
    "y=data['T Shirt Size']\n",
    "x_train,x_test,y_train,y_test=train_test_split(x,y,test_size=0.2,random_state=0)\n",
    "knn=KNeighborsClassifier(n_neighbors=3)\n",
    "print(x_train,y_train)\n",
    "knn.fit(x_train,y_train)\n",
    "print(knn.predict([[170,60]]))\n"
   ]
  },
  {
   "attachments": {},
   "cell_type": "markdown",
   "metadata": {},
   "source": [
    "Q-2"
   ]
  },
  {
   "cell_type": "code",
   "execution_count": null,
   "metadata": {},
   "outputs": [],
   "source": [
    "data=pd.read_csv(\"acid.csv\",delimiter=\",\")\n",
    "x=data[['Acid Durability','Strength']]\n",
    "y=data['Class']\n",
    "x_train,x_test,y_train,y_test=train_test_split(x,y,test_size=0.2,random_state=0)\n",
    "knn=KNeighborsClassifier(n_neighbors=3)\n",
    "print(x_train,y_train)\n",
    "knn.fit(x_train,y_train)\n",
    "print(knn.predict([[3,4]]))\n"
   ]
  },
  {
   "attachments": {},
   "cell_type": "markdown",
   "metadata": {},
   "source": [
    "Q-3"
   ]
  },
  {
   "cell_type": "code",
   "execution_count": null,
   "metadata": {},
   "outputs": [],
   "source": [
    "data = pd.read_csv(\"diabetes.csv\",delimiter=\",\")\n",
    "x=data[['Pregnancies','Glucose','BloodPressure','SkinThickness','Insulin','BMI','DiabetesPedigreeFunction','Age']]\n",
    "y=data['Outcome']\n",
    "x_train,x_test,y_train,y_test=train_test_split(x,y,test_size=0.2,random_state=0)\n",
    "knn=KNeighborsClassifier(n_neighbors=7)\n",
    "print(x_train,y_train)\n",
    "knn.fit(x_train,y_train)\n",
    "print(knn.predict([[6,148,72,35,0,33.6,0.627,50]]))\n"
   ]
  }
 ],
 "metadata": {
  "kernelspec": {
   "display_name": "base",
   "language": "python",
   "name": "python3"
  },
  "language_info": {
   "codemirror_mode": {
    "name": "ipython",
    "version": 3
   },
   "file_extension": ".py",
   "mimetype": "text/x-python",
   "name": "python",
   "nbconvert_exporter": "python",
   "pygments_lexer": "ipython3",
   "version": "3.9.13"
  },
  "orig_nbformat": 4,
  "vscode": {
   "interpreter": {
    "hash": "06ab3c6a628ba3d00cd530e4b9837ac2ac04ab5c77f817d21b834eef6afa7b31"
   }
  }
 },
 "nbformat": 4,
 "nbformat_minor": 2
}
